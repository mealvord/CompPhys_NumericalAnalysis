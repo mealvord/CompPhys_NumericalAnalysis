{
  "cells": [
    {
      "cell_type": "markdown",
      "metadata": {
        "id": "view-in-github",
        "colab_type": "text"
      },
      "source": [
        "<a href=\"https://colab.research.google.com/github/mealvord/CompPhys_NumericalAnalysis/blob/main/modeling_constant_a.ipynb\" target=\"_parent\"><img src=\"https://colab.research.google.com/assets/colab-badge.svg\" alt=\"Open In Colab\"/></a>"
      ]
    },
    {
      "cell_type": "markdown",
      "id": "bc7303d7-17f0-46b9-a815-8624ed35e4e6",
      "metadata": {
        "id": "bc7303d7-17f0-46b9-a815-8624ed35e4e6"
      },
      "source": [
        "# Intro To Modeling Constant Acceleration Motion\n",
        "\n",
        "In this activity you will learn to:  \n",
        "- calculate acceleration\n",
        "- update velocity\n",
        "- graph velocity vs time graphs\n",
        "\n",
        "<hr/>\n",
        "\n",
        "# Part 1: How do we calculate acceleration?\n",
        "\n",
        "Take the example question: A car has a mass of 1500 kg. If the driver applies the brakes while on a gravel road, the maximum friction force that the tires can provide without skidding is about 7000 N. If the car is moving at 20 m/s, what is the shortest distance in which the car can stop safely? (Knight Ch. 4, problem 62)\n"
      ]
    },
    {
      "cell_type": "code",
      "execution_count": null,
      "id": "b118a37d-efed-48e9-9a1e-f03fc228627c",
      "metadata": {
        "id": "b118a37d-efed-48e9-9a1e-f03fc228627c",
        "outputId": "764b82f2-5ce4-428d-ba79-73e7e0e8f437"
      },
      "outputs": [
        {
          "ename": "SyntaxError",
          "evalue": "invalid syntax (4100992324.py, line 5)",
          "output_type": "error",
          "traceback": [
            "\u001b[0;36m  Cell \u001b[0;32mIn[2], line 5\u001b[0;36m\u001b[0m\n\u001b[0;31m    m =\u001b[0m\n\u001b[0m        ^\u001b[0m\n\u001b[0;31mSyntaxError\u001b[0m\u001b[0;31m:\u001b[0m invalid syntax\n"
          ]
        }
      ],
      "source": [
        "# put the needed libraries first, here at the top\n",
        "\n",
        "\n",
        "#Knowns - what variables did the problem give us? don't forget units!\n",
        "m =\n",
        "F_friction =\n",
        "v =\n",
        "\n",
        "#in addition to the known values, are there any assumed values?\n",
        "\n",
        "t =\n",
        "x =\n",
        "\n",
        "#We also want to update time incrementally with the Euler method\n",
        "dt =\n",
        "\n",
        "#Lists - these will typically be used to create graphs, so think about what we want to graph! Don't forget units\n",
        "\n",
        "tlist = [t] #s\n",
        "xlist =\n",
        "vlist =\n",
        "\n",
        "#The Motion - Using a while loop, we update the various variables of the object\n",
        "\n",
        "while \"variable conditional value\": #example - while t < 10 - read the question closely. Under what condition do we want to the code to stop running?\n",
        "    a =   #what physics is happening here?\n",
        "    v =   #what physics is happening here?\n",
        "    x =   #what physics is happening here?\n",
        "    t =   #what physics is happening here?\n",
        "\n",
        "    #we also need to update our lists. The first one is done for you!\n",
        "    tlist.append(t)\n",
        "\n",
        "\n",
        "#Graphs - what are the common physics graphs you'd be asked for a question like this?\n",
        "#Do you have a graphing code you can copy and paste here?\n",
        "\n",
        "#How do we get the computer to tell us the answer? Where is this variable being stored? How do we print it out?\n"
      ]
    },
    {
      "cell_type": "markdown",
      "id": "4201b4f7-55ae-44ee-b8ad-46b4c490fb05",
      "metadata": {
        "id": "4201b4f7-55ae-44ee-b8ad-46b4c490fb05"
      },
      "source": [
        "The answer above should be 42.847 m\n",
        "\n",
        "Now your turn. Try this problem out: A stationary car with a mass of 1500 kg is being towed by a rope pulling with 2300 N held at a 20 degree angle to the horizontal. How long does it take the car to reach 90 m? Assume no friction (modified from example 5.6, Knight)."
      ]
    },
    {
      "cell_type": "code",
      "execution_count": null,
      "id": "61ed0bcf-125c-40b1-a18f-7335c2bb7662",
      "metadata": {
        "id": "61ed0bcf-125c-40b1-a18f-7335c2bb7662"
      },
      "outputs": [],
      "source": [
        "#We don't have to put the libraries in this code if the coding cell above has already been run this session\n",
        "\n",
        "#Knowns\n",
        "\n",
        "#Lists\n",
        "\n",
        "#The Motion\n",
        "\n",
        "#Graphs\n",
        "\n",
        "#How do we get the computer to tell us the answer? Print it out!"
      ]
    },
    {
      "cell_type": "markdown",
      "id": "974ba1c4-0bef-4cb3-a186-ccaf09a82fd2",
      "metadata": {
        "id": "974ba1c4-0bef-4cb3-a186-ccaf09a82fd2"
      },
      "source": [
        "For the code above, helpful numpy functions are\n",
        "\n",
        "- np.cos() = computes the cosine of an angle in radians\n",
        "- np.sin() = computes the sine of an angle in radians\n",
        "- np.deg2rad() = converts an angle in degrees to an angle in radians\n",
        "\n",
        "The answer to the code above should be 11.177 s"
      ]
    },
    {
      "cell_type": "code",
      "execution_count": null,
      "id": "8c6da18e-986b-467d-ba72-83f0f4c37b27",
      "metadata": {
        "id": "8c6da18e-986b-467d-ba72-83f0f4c37b27"
      },
      "outputs": [],
      "source": []
    }
  ],
  "metadata": {
    "kernelspec": {
      "display_name": "Python 3 (ipykernel)",
      "language": "python",
      "name": "python3"
    },
    "language_info": {
      "codemirror_mode": {
        "name": "ipython",
        "version": 3
      },
      "file_extension": ".py",
      "mimetype": "text/x-python",
      "name": "python",
      "nbconvert_exporter": "python",
      "pygments_lexer": "ipython3",
      "version": "3.11.5"
    },
    "colab": {
      "provenance": [],
      "include_colab_link": true
    }
  },
  "nbformat": 4,
  "nbformat_minor": 5
}